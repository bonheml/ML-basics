{
 "cells": [
  {
   "cell_type": "code",
   "execution_count": 1,
   "metadata": {},
   "outputs": [],
   "source": [
    "import matplotlib.pyplot as plt\n",
    "import numpy as np\n",
    "from sklearn import datasets, linear_model\n",
    "from sklearn.metrics import mean_squared_error, r2_score"
   ]
  },
  {
   "cell_type": "code",
   "execution_count": 2,
   "metadata": {},
   "outputs": [],
   "source": [
    "class LinearRegression:\n",
    "    def __init__(self):\n",
    "        self.theta = None\n",
    "        self.alpha = None\n",
    "        \n",
    "    def _init_parameters(self, X, alpha):\n",
    "        self.theta = np.random.rand(X.shape[1] + 1, 1)\n",
    "        self.alpha = alpha\n",
    "            \n",
    "    def predict(self, X):\n",
    "        tmp_x = np.hstack((np.ones_like(X), X))\n",
    "        return tmp_x.dot(self.theta).flatten()\n",
    "    \n",
    "    def get_error(self, hypothesis, y):\n",
    "        return hypothesis - y.flatten()\n",
    "    \n",
    "    def get_cost(self, error, m):\n",
    "        return (1/(2*m)) * np.square(error)\n",
    "    \n",
    "    def fit(self, X, y, alpha=0.5, threshold=1e-6):\n",
    "        if X.shape[0] != y.shape[0]:\n",
    "            raise ValueError(\"X and y are of different size\")\n",
    "        self._init_parameters(X, alpha)\n",
    "        m = len(X)\n",
    "        tmp_x = np.hstack((np.ones_like(X), X))\n",
    "        while True:\n",
    "            h = self.predict(X)\n",
    "            error = self.get_error(h, y)\n",
    "            cost = self.get_cost(error, m)\n",
    "            gradient = (self.alpha/m) * np.transpose(tmp_x).dot(error).reshape(2, 1)\n",
    "            new_theta = self.theta - gradient\n",
    "            if np.sum(abs(new_theta - self.theta)) < threshold:\n",
    "                break\n",
    "            self.theta = new_theta"
   ]
  },
  {
   "cell_type": "code",
   "execution_count": 3,
   "metadata": {},
   "outputs": [],
   "source": [
    "diabetes = datasets.load_diabetes()\n",
    "diabetes_X = diabetes.data[:, np.newaxis, 2]\n",
    "diabetes_X_train = diabetes_X[:-20]\n",
    "diabetes_X_test = diabetes_X[-20:]\n",
    "diabetes_y_train = diabetes.target[:-20]\n",
    "diabetes_y_test = diabetes.target[-20:]"
   ]
  },
  {
   "cell_type": "code",
   "execution_count": 4,
   "metadata": {},
   "outputs": [],
   "source": [
    "regr = LinearRegression()\n",
    "regr.fit(diabetes_X_train, diabetes_y_train, alpha=0.7)\n",
    "diabetes_y_pred = regr.predict(diabetes_X_test)"
   ]
  },
  {
   "cell_type": "code",
   "execution_count": 5,
   "metadata": {},
   "outputs": [],
   "source": [
    "scikit_regr = linear_model.LinearRegression()\n",
    "scikit_regr.fit(diabetes_X_train, diabetes_y_train)\n",
    "scikit_diabetes_y_pred = scikit_regr.predict(diabetes_X_test)"
   ]
  },
  {
   "cell_type": "code",
   "execution_count": 9,
   "metadata": {},
   "outputs": [
    {
     "name": "stdout",
     "output_type": "stream",
     "text": [
      "Coefficients: [938.23786125]\n",
      "Mean squared error: 2548.07\n",
      "Variance score: 0.47\n"
     ]
    }
   ],
   "source": [
    "print(\"Coefficients: {}\".format(scikit_regr.coef_))\n",
    "print(\"Mean squared error: {:.2f}\".format(mean_squared_error(diabetes_y_test, scikit_diabetes_y_pred)))\n",
    "print(\"Variance score: {:.2f}\".format(r2_score(diabetes_y_test, scikit_diabetes_y_pred)))"
   ]
  },
  {
   "cell_type": "code",
   "execution_count": 10,
   "metadata": {},
   "outputs": [
    {
     "name": "stdout",
     "output_type": "stream",
     "text": [
      "Coefficients: [938.23723166]\n",
      "Mean squared error: 2548.07\n",
      "Variance score: 0.47\n"
     ]
    }
   ],
   "source": [
    "print(\"Coefficients: {}\".format(regr.theta[1]))\n",
    "print(\"Mean squared error: {:.2f}\".format(mean_squared_error(diabetes_y_test, diabetes_y_pred)))\n",
    "print(\"Variance score: {:.2f}\".format(r2_score(diabetes_y_test, diabetes_y_pred)))"
   ]
  },
  {
   "cell_type": "code",
   "execution_count": 8,
   "metadata": {},
   "outputs": [
    {
     "data": {
      "image/png": "[encoded data removed]",
      "text/plain": [
       "<Figure size 1080x360 with 2 Axes>"
      ]
     },
     "metadata": {},
     "output_type": "display_data"
    }
   ],
   "source": [
    "f, (ax1, ax2) = plt.subplots(1, 2, figsize=(15, 5))\n",
    "ax1.scatter(diabetes_X_test, diabetes_y_test,  color='black')\n",
    "ax1.plot(diabetes_X_test, scikit_diabetes_y_pred, color='blue')\n",
    "ax1.set_title('Scikit learn')\n",
    "\n",
    "ax2.scatter(diabetes_X_test, diabetes_y_test,  color='black')\n",
    "ax2.plot(diabetes_X_test, diabetes_y_pred, color='green')\n",
    "ax2.set_title('Custom implementation')\n",
    "plt.show()"
   ]
  }
 ],
 "metadata": {
  "kernelspec": {
   "display_name": "Python 3",
   "language": "python",
   "name": "python3"
  },
  "language_info": {
   "codemirror_mode": {
    "name": "ipython",
    "version": 3
   },
   "file_extension": ".py",
   "mimetype": "text/x-python",
   "name": "python",
   "nbconvert_exporter": "python",
   "pygments_lexer": "ipython3",
   "version": "3.6.6"
  }
 },
 "nbformat": 4,
 "nbformat_minor": 2
}
